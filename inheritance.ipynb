{
 "cells": [
  {
   "cell_type": "markdown",
   "id": "6ca30065",
   "metadata": {},
   "source": [
    "# inheritance topic\n",
    "\n",
    "# Single Inheritance"
   ]
  },
  {
   "cell_type": "markdown",
   "id": "a9b1f061",
   "metadata": {},
   "source": [
    "class Parent:\n",
    "def father(self):\n",
    "print(\"Father\")\n",
    "class Child(Parent):\n",
    "def derived(self):\n",
    "print(\"child class\")\n",
    "\n",
    "c=Child()\n",
    "c.father()\n",
    "c.derived()\n"
   ]
  },
  {
   "cell_type": "code",
   "execution_count": 1,
   "id": "3ac61ef5",
   "metadata": {},
   "outputs": [
    {
     "name": "stdout",
     "output_type": "stream",
     "text": [
      "Father\n",
      "child class\n"
     ]
    }
   ],
   "source": [
    "class Parent:\n",
    "    def father(self):\n",
    "        print(\"Father\")\n",
    "class Child(Parent):\n",
    "    def derived(self): \n",
    "        print(\"child class\")\n",
    "\n",
    "c=Child()\n",
    "c.father()\n",
    "c.derived()"
   ]
  },
  {
   "cell_type": "code",
   "execution_count": null,
   "id": "07fef9ee",
   "metadata": {},
   "outputs": [],
   "source": []
  },
  {
   "cell_type": "markdown",
   "id": "44012aeb",
   "metadata": {},
   "source": [
    "# Multi Level Inheritance\n"
   ]
  },
  {
   "cell_type": "code",
   "execution_count": 2,
   "id": "e08ac6f4",
   "metadata": {},
   "outputs": [
    {
     "name": "stdout",
     "output_type": "stream",
     "text": [
      "Grand Parent\n",
      "Parent\n",
      "Child\n"
     ]
    }
   ],
   "source": [
    "class Grand_Parent:\n",
    "    def gd(self):\n",
    "        print(\"Grand Parent\")\n",
    "class Parent(Grand_Parent):\n",
    "    def par(self):\n",
    "        print(\"Parent\")\n",
    "class Child(Parent):\n",
    "    def chi(self):\n",
    "        print(\"Child\")\n",
    "c=Child()\n",
    "c.gd()\n",
    "c.par()\n",
    "c.chi()\n"
   ]
  },
  {
   "cell_type": "markdown",
   "id": "4af981c1",
   "metadata": {},
   "source": [
    "# Multiple Inheritance"
   ]
  },
  {
   "cell_type": "code",
   "execution_count": 3,
   "id": "c4bd08b6",
   "metadata": {},
   "outputs": [
    {
     "name": "stdout",
     "output_type": "stream",
     "text": [
      "Father\n",
      "Mother\n",
      "Child\n"
     ]
    }
   ],
   "source": [
    "class Father:\n",
    "    def fa(self):\n",
    "        print(\"Father\")\n",
    "class Mother:\n",
    "    def mom(self):\n",
    "        print(\"Mother\")\n",
    "class Child(Father,Mother):\n",
    "    def chi(self):\n",
    "        print(\"Child\")\n",
    "c=Child()\n",
    "c.fa()\n",
    "c.mom()\n",
    "c.chi()"
   ]
  },
  {
   "cell_type": "markdown",
   "id": "d7c5a585",
   "metadata": {},
   "source": [
    "# Hierarchial Inheritance\n"
   ]
  },
  {
   "cell_type": "code",
   "execution_count": 8,
   "id": "8e622de2",
   "metadata": {},
   "outputs": [
    {
     "name": "stdout",
     "output_type": "stream",
     "text": [
      "Father\n",
      "child3 class\n",
      "child2 class\n"
     ]
    }
   ],
   "source": [
    "class Parent:\n",
    "    def father(self):\n",
    "        print(\"Father\")\n",
    "class Child1(Parent):\n",
    "    def derived1(self): \n",
    "        print(\"child1 class\")\n",
    "class Child2(Parent):\n",
    "    def derived2(self): \n",
    "        print(\"child2 class\")\n",
    "class Child3(Parent):\n",
    "    def derived3(self): \n",
    "        print(\"child3 class\")        \n",
    "\n",
    "c=Child3()\n",
    "c.father()\n",
    "c.derived3()\n",
    "c1=Child2()\n",
    "c1.derived2()"
   ]
  },
  {
   "cell_type": "code",
   "execution_count": null,
   "id": "78e74146",
   "metadata": {},
   "outputs": [],
   "source": []
  }
 ],
 "metadata": {
  "kernelspec": {
   "display_name": "Python 3 (ipykernel)",
   "language": "python",
   "name": "python3"
  },
  "language_info": {
   "codemirror_mode": {
    "name": "ipython",
    "version": 3
   },
   "file_extension": ".py",
   "mimetype": "text/x-python",
   "name": "python",
   "nbconvert_exporter": "python",
   "pygments_lexer": "ipython3",
   "version": "3.9.12"
  }
 },
 "nbformat": 4,
 "nbformat_minor": 5
}
